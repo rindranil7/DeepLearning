{
 "cells": [
  {
   "cell_type": "code",
   "execution_count": 1,
   "metadata": {},
   "outputs": [
    {
     "ename": "SyntaxError",
     "evalue": "Missing parentheses in call to 'print'. Did you mean print(x)? (<ipython-input-1-d52dd6e3ad46>, line 2)",
     "output_type": "error",
     "traceback": [
      "\u001b[1;36m  File \u001b[1;32m\"<ipython-input-1-d52dd6e3ad46>\"\u001b[1;36m, line \u001b[1;32m2\u001b[0m\n\u001b[1;33m    print x\u001b[0m\n\u001b[1;37m          ^\u001b[0m\n\u001b[1;31mSyntaxError\u001b[0m\u001b[1;31m:\u001b[0m Missing parentheses in call to 'print'. Did you mean print(x)?\n"
     ]
    }
   ],
   "source": [
    "x=\"Shakespeare gave the best theaterics to the world\"\n",
    "print x"
   ]
  },
  {
   "cell_type": "code",
   "execution_count": 2,
   "metadata": {},
   "outputs": [
    {
     "name": "stdout",
     "output_type": "stream",
     "text": [
      "Shakespeare gave the best theaterics to the world\n"
     ]
    }
   ],
   "source": [
    "x=\"Shakespeare gave the best theaterics to the world\"\n",
    "print (x)"
   ]
  },
  {
   "cell_type": "code",
   "execution_count": 11,
   "metadata": {},
   "outputs": [
    {
     "name": "stdout",
     "output_type": "stream",
     "text": [
      "<class 'str'>\n",
      "\"William Shakespeare (bapt. 26 April 1564 – 23 April 1616)[a] didn't an English poet,\n",
      "playwright, and actor, widely regarded as the greatest writer in the English language and\n",
      "the world's greatest dramatist.[2][3][4] He is often called England's national poet and the\n",
      "\"Bard of Avon\" (or simply \"the Bard\").[5][b] His extant works, including collaborations, consist\n",
      "of some 39 plays,[c] 154 sonnets, two long narrative poems, and a few other verses, some of uncertain\n",
      "authorship. His plays have been translated into every major living language and are performed more often\n",
      "than those of any other playwright\n"
     ]
    }
   ],
   "source": [
    "print(type(x))\n",
    "\n",
    "var=\"\"\"\"William Shakespeare (bapt. 26 April 1564 – 23 April 1616)[a] didn't an English poet,\n",
    "playwright, and actor, widely regarded as the greatest writer in the English language and\n",
    "the world's greatest dramatist.[2][3][4] He is often called England's national poet and the\n",
    "\"Bard of Avon\" (or simply \"the Bard\").[5][b] His extant works, including collaborations, consist\n",
    "of some 39 plays,[c] 154 sonnets, two long narrative poems, and a few other verses, some of uncertain\n",
    "authorship. His plays have been translated into every major living language and are performed more often\n",
    "than those of any other playwright\"\"\"\n",
    "print(var)"
   ]
  },
  {
   "cell_type": "raw",
   "metadata": {},
   "source": [
    "triple qutoation works for "
   ]
  },
  {
   "cell_type": "code",
   "execution_count": 27,
   "metadata": {},
   "outputs": [
    {
     "name": "stdout",
     "output_type": "stream",
     "text": [
      "['madrid', 'turin', 'rome', 'glasgow', 'manchester', 'barcelona', 'muncih', 'brussels', 'zurich', 'london', 'Tuscany']\n"
     ]
    }
   ],
   "source": [
    "var =['madrid','turin','rome','glasgow','manchester','barcelona','muncih','brussels','zurich','london']\n",
    "var.append('Tuscany')\n",
    "print(var)"
   ]
  },
  {
   "cell_type": "code",
   "execution_count": 28,
   "metadata": {},
   "outputs": [
    {
     "name": "stdout",
     "output_type": "stream",
     "text": [
      "{'Ronaldo': 'football', 'Kohli': 'Cricket', 'Usain Bolt': '100m', 'Lewsi Hamilton': 'Car Racing', 'Mary Kom': 'Boxing'}\n"
     ]
    }
   ],
   "source": [
    "dict={'Ronaldo':'football','Kohli':'Cricket','Usain Bolt':'100m','Lewsi Hamilton':'Car Racing','Mary Kom':'Boxing'}\n",
    "print(dict)"
   ]
  }
 ],
 "metadata": {
  "kernelspec": {
   "display_name": "Python 3",
   "language": "python",
   "name": "python3"
  },
  "language_info": {
   "codemirror_mode": {
    "name": "ipython",
    "version": 3
   },
   "file_extension": ".py",
   "mimetype": "text/x-python",
   "name": "python",
   "nbconvert_exporter": "python",
   "pygments_lexer": "ipython3",
   "version": "3.7.3"
  }
 },
 "nbformat": 4,
 "nbformat_minor": 2
}
